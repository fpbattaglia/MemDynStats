{
 "cells": [
  {
   "cell_type": "markdown",
   "metadata": {},
   "source": [
    "%load_ext autoreload\n",
    "\n",
    "%autoreload 2\n"
   ]
  },
  {
   "cell_type": "code",
   "execution_count": null,
   "metadata": {},
   "outputs": [],
   "source": [
    "import numpy as np\n",
    "import pandas as pd\n",
    "import matplotlib\n",
    "import matplotlib.pyplot as plt\n",
    "import ClusterStats.cluster_stats as cs"
   ]
  },
  {
   "cell_type": "code",
   "execution_count": null,
   "metadata": {},
   "outputs": [],
   "source": [
    "%matplotlib inline"
   ]
  },
  {
   "cell_type": "code",
   "execution_count": null,
   "metadata": {},
   "outputs": [],
   "source": []
  },
  {
   "cell_type": "code",
   "execution_count": null,
   "metadata": {},
   "outputs": [],
   "source": [
    "def generate_trial(N = 100, sig = 1):\n",
    "    a = np.random.rand(100)\n",
    "    x = np.linspace(-10, 10, 100)\n",
    "    y = np.exp(-(x**2)/2) * np.random.rand() * sig\n",
    "    return a + y"
   ]
  },
  {
   "cell_type": "code",
   "execution_count": null,
   "metadata": {},
   "outputs": [],
   "source": [
    "N_trials = 1000\n",
    "data_cols = [str(i) for i in np.linspace(-10, 10, 100).tolist()]"
   ]
  },
  {
   "cell_type": "code",
   "execution_count": null,
   "metadata": {},
   "outputs": [],
   "source": [
    "df = pd.DataFrame(columns=data_cols)\n",
    "df['cond'] = 0\n",
    "for i in range(N_trials):\n",
    "    df.loc[i, np.linspace(-10, 10, 100).tolist()] = generate_trial()\n",
    "    df.loc[i, 'cond'] = 1\n",
    "    \n",
    "for i in range(N_trials, N_trials * 2):\n",
    "    df.loc[i, np.linspace(-10, 10, 100).tolist()] = generate_trial(sig=0)\n",
    "    df.loc[i, 'cond'] = 0"
   ]
  },
  {
   "cell_type": "code",
   "execution_count": null,
   "metadata": {},
   "outputs": [],
   "source": [
    "df.to_csv('trials.h5')"
   ]
  },
  {
   "cell_type": "code",
   "execution_count": null,
   "metadata": {},
   "outputs": [],
   "source": [
    "df = pd.read_csv('trials.h5')\n",
    "data_cols = [str(i) for i in np.linspace(-10, 10, 100).tolist()]"
   ]
  },
  {
   "cell_type": "code",
   "execution_count": null,
   "metadata": {},
   "outputs": [],
   "source": [
    "df.columns"
   ]
  },
  {
   "cell_type": "code",
   "execution_count": null,
   "metadata": {},
   "outputs": [],
   "source": [
    "df[data_cols].T.plot(legend=None, figsize=(9, 6))"
   ]
  },
  {
   "cell_type": "code",
   "execution_count": null,
   "metadata": {},
   "outputs": [],
   "source": [
    "data = df[data_cols].values\n",
    "labels = df['cond'].values\n",
    "unique_labels = np.array([1, 0])\n",
    "stat, pval = cs.site_statistics_ttest_ind(data, labels, unique_labels)\n"
   ]
  },
  {
   "cell_type": "code",
   "execution_count": null,
   "metadata": {},
   "outputs": [],
   "source": [
    "plt.plot(np.linspace(-10, 10, 100), np.log(pval))"
   ]
  },
  {
   "cell_type": "code",
   "execution_count": null,
   "metadata": {},
   "outputs": [],
   "source": [
    "%%timeit\n",
    "cluster_stats, clusters = cs.clust_stats_1d(stat, pval, threshold=0.05)"
   ]
  },
  {
   "cell_type": "code",
   "execution_count": null,
   "metadata": {},
   "outputs": [],
   "source": [
    "%%timeit\n",
    "cluster_stats, clusters = cs.clust_stats_opencv(stat, pval, threshold=0.05)"
   ]
  },
  {
   "cell_type": "code",
   "execution_count": null,
   "metadata": {},
   "outputs": [],
   "source": [
    "%timeit sx = cs.monte_carlo_iteration(data, labels, unique_labels=unique_labels)"
   ]
  },
  {
   "cell_type": "code",
   "execution_count": null,
   "metadata": {},
   "outputs": [],
   "source": [
    "%lprun -f cs.site_statistics_ttest_ind tt = cs.site_statistics_ttest_ind(df, 'cond', data_cols)"
   ]
  },
  {
   "cell_type": "code",
   "execution_count": null,
   "metadata": {},
   "outputs": [],
   "source": [
    "import itertools"
   ]
  },
  {
   "cell_type": "code",
   "execution_count": null,
   "metadata": {},
   "outputs": [],
   "source": [
    "%load_ext line_profiler"
   ]
  },
  {
   "cell_type": "code",
   "execution_count": null,
   "metadata": {},
   "outputs": [],
   "source": [
    "def run_monte_carlo_map(df, col_groups, col_values, n_repetitions, connectivity='1d', site_alpha=0.05):\n",
    "    data = df[col_values].values\n",
    "    labels = df[col_groups].values\n",
    "    unique_labels = np.unique(labels).astype(np.int)[::-1]\n",
    "    \n",
    "    stats_mc = map(cs.monte_carlo_iteration,\n",
    "                            *[itertools.repeat(d, n_repetitions) for d in (data, labels, unique_labels,\n",
    "                                                                           connectivity,\n",
    "                                                                           site_alpha)])\n",
    "                            # chunksize=100)\n",
    "    stats_mc = np.array(list(stats_mc))\n",
    "    stats_mc.sort()\n",
    "    stats_mc = stats_mc[::-1]\n",
    "    idx = np.linspace(0, 1, n_repetitions)\n",
    "    stats_mc = pd.Series(data=stats_mc, index=idx)\n",
    "    return stats_mc\n"
   ]
  },
  {
   "cell_type": "code",
   "execution_count": null,
   "metadata": {},
   "outputs": [],
   "source": [
    "%time stats_mc = cs.run_monte_carlo(df, 'cond', data_cols, n_repetitions=1000)"
   ]
  },
  {
   "cell_type": "code",
   "execution_count": null,
   "metadata": {},
   "outputs": [],
   "source": [
    "stats_mc.isna().any()"
   ]
  },
  {
   "cell_type": "code",
   "execution_count": null,
   "metadata": {},
   "outputs": [],
   "source": [
    "stats_mc"
   ]
  },
  {
   "cell_type": "code",
   "execution_count": null,
   "metadata": {},
   "outputs": [],
   "source": [
    "labels"
   ]
  },
  {
   "cell_type": "code",
   "execution_count": null,
   "metadata": {},
   "outputs": [],
   "source": []
  }
 ],
 "metadata": {
  "kernelspec": {
   "display_name": "Python 3",
   "language": "python",
   "name": "python3"
  },
  "language_info": {
   "codemirror_mode": {
    "name": "ipython",
    "version": 3
   },
   "file_extension": ".py",
   "mimetype": "text/x-python",
   "name": "python",
   "nbconvert_exporter": "python",
   "pygments_lexer": "ipython3",
   "version": "3.7.2"
  }
 },
 "nbformat": 4,
 "nbformat_minor": 2
}
